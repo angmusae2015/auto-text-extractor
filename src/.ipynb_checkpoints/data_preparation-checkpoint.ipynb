{
 "cells": [
  {
   "cell_type": "markdown",
   "metadata": {},
   "source": [
    "# 데이터 전처리 과정\n",
    "\n",
    "## 목표\n",
    "### 자연어로 입력된 시공 내용으로부터 다음 정보를 추출하는 파인튜닝 모델을 학습시킬 수 있는 데이터셋을 만드는 것\n",
    "* 구분\n",
    "* 작업 내용\n",
    "    * 규격\n",
    "    * 개수\n",
    "* 위치"
   ]
  },
  {
   "cell_type": "code",
   "execution_count": 2,
   "metadata": {},
   "outputs": [],
   "source": [
    "import os\n",
    "import copy\n",
    "import json\n",
    "import base64\n",
    "from pydantic import BaseModel\n",
    "from tkinter import Tk\n",
    "from tkinter.filedialog import askopenfilename, askdirectory\n",
    "\n",
    "from openai import OpenAI"
   ]
  },
  {
   "cell_type": "code",
   "execution_count": 3,
   "metadata": {},
   "outputs": [],
   "source": [
    "# API KEY 파일을 선택함\n",
    "root = Tk()\n",
    "root.withdraw()\n",
    "root.call('wm', 'attributes', '.', '-topmost', True)\n",
    "openai_api_key_path = askopenfilename()\n",
    "%gui tk"
   ]
  },
  {
   "cell_type": "code",
   "execution_count": 4,
   "metadata": {},
   "outputs": [],
   "source": [
    "with open(openai_api_key_path, 'r') as f:\n",
    "    openai_api_key = f.read()\n",
    "    f.close()"
   ]
  },
  {
   "cell_type": "code",
   "execution_count": 5,
   "metadata": {},
   "outputs": [],
   "source": [
    "client = OpenAI(api_key=openai_api_key)"
   ]
  },
  {
   "cell_type": "markdown",
   "metadata": {},
   "source": [
    "# 첫 번째 시도"
   ]
  },
  {
   "cell_type": "markdown",
   "metadata": {},
   "source": [
    "## 1. 문자열 추출 테스트\n",
    "### 목표\n",
    "    OpenAI API를 이용해 이미지에서 \"내용\"에 해당하는 텍스트를 추출하기"
   ]
  },
  {
   "cell_type": "code",
   "execution_count": null,
   "metadata": {
    "scrolled": true
   },
   "outputs": [],
   "source": [
    "# 이미지를 선택함\n",
    "root.call('wm', 'attributes', '.', '-topmost', True)\n",
    "image_path = askopenfilename()\n",
    "%gui tk"
   ]
  },
  {
   "cell_type": "code",
   "execution_count": 15,
   "metadata": {},
   "outputs": [],
   "source": [
    "# 이미지를 base64로 인코딩함\n",
    "with open(image_path, \"rb\") as image_file:\n",
    "    base64_image = base64.b64encode(image_file.read()).decode('utf-8')"
   ]
  },
  {
   "cell_type": "code",
   "execution_count": 35,
   "metadata": {},
   "outputs": [],
   "source": [
    "# 시스템 프롬트트\n",
    "system_prompt = \"You are the chief construction manager at a construction company, responsible for organizing work photos sent from the site. When you receive a work photo combined with a table of work information, extract the text in according to the given structure.\""
   ]
  },
  {
   "cell_type": "code",
   "execution_count": 32,
   "metadata": {},
   "outputs": [],
   "source": [
    "# 텍스트 추출 테스트\n",
    "response = client.chat.completions.create(\n",
    "  model=\"gpt-4o-2024-08-06\",\n",
    "  messages=[\n",
    "    {\n",
    "      \"role\": \"system\",\n",
    "      \"content\": [\n",
    "        {\n",
    "          \"type\": \"text\",\n",
    "          \"text\": system_prompt\n",
    "        }\n",
    "      ]\n",
    "    },\n",
    "    {\n",
    "      \"role\": \"user\",\n",
    "      \"content\": [\n",
    "        {\n",
    "          \"type\": \"text\",\n",
    "          \"text\": \"\"\n",
    "        },\n",
    "        {\n",
    "          \"type\": \"image_url\",\n",
    "          \"image_url\": {\n",
    "            \"url\": f\"data:image/jpeg;base64,{base64_image}\"\n",
    "          }\n",
    "        }\n",
    "      ]\n",
    "    }\n",
    "  ],\n",
    "  temperature=0,\n",
    "  max_tokens=256,\n",
    "  top_p=1,\n",
    "  frequency_penalty=0,\n",
    "  presence_penalty=0,\n",
    "  response_format={\n",
    "    \"type\": \"json_schema\",\n",
    "    \"json_schema\": {\n",
    "      \"name\": \"extract_construction_info\",\n",
    "      \"strict\": True,\n",
    "      \"schema\": {\n",
    "        \"type\": \"object\",\n",
    "        \"properties\": {\n",
    "          \"content\": {\n",
    "            \"type\": \"string\",\n",
    "            \"description\": \"Text under the '내용' section in the table\"\n",
    "          }\n",
    "        },\n",
    "        \"additionalProperties\": False,\n",
    "        \"required\": [\n",
    "          \"content\"\n",
    "        ]\n",
    "      }\n",
    "    }\n",
    "  }\n",
    ")"
   ]
  },
  {
   "cell_type": "code",
   "execution_count": 44,
   "metadata": {},
   "outputs": [
    {
     "data": {
      "text/plain": [
       "'{\"content\":\"7번 벽체 D 50*2 단면\"}'"
      ]
     },
     "execution_count": 44,
     "metadata": {},
     "output_type": "execute_result"
    }
   ],
   "source": [
    "response.choices[0].message.content"
   ]
  },
  {
   "cell_type": "markdown",
   "metadata": {},
   "source": [
    "## 2. 데이터셋 이미지 텍스트 추출\n",
    "### 목표\n",
    "    OpenAI Batch API를 사용해 모든 이미지에서 텍스트를 추출하기\n",
    "***\n",
    "### 1. 배치 파일 준비하기\n",
    "#### 모든 이미지를 base64로 변환하기"
   ]
  },
  {
   "cell_type": "code",
   "execution_count": 5,
   "metadata": {},
   "outputs": [],
   "source": [
    "# base64로 변환한 이미지 리스트\n",
    "base64_image_set = []"
   ]
  },
  {
   "cell_type": "code",
   "execution_count": 6,
   "metadata": {},
   "outputs": [],
   "source": [
    "# 모든 현장 폴더가 저장된 폴더를 가져옴\n",
    "root = Tk()\n",
    "root.withdraw()\n",
    "root.call('wm', 'attributes', '.', '-topmost', True)\n",
    "image_set_folder_path = askdirectory()\n",
    "%gui tk"
   ]
  },
  {
   "cell_type": "code",
   "execution_count": 7,
   "metadata": {},
   "outputs": [],
   "source": [
    "# 해당 경로의 이미지를 base64 문자열로 반환하는 함수\n",
    "def convert_to_base64(image_path: str) -> str:\n",
    "    with open(image_path, \"rb\") as image_file:\n",
    "        base64_image = base64.b64encode(image_file.read()).decode('utf-8')\n",
    "\n",
    "    return base64_image"
   ]
  },
  {
   "cell_type": "code",
   "execution_count": 8,
   "metadata": {},
   "outputs": [
    {
     "name": "stdout",
     "output_type": "stream",
     "text": [
      "현장명: (광장이엠씨) 마곡CP4 개발사업 - 755개의 이미지가 추가됨\n",
      "현장명: (백산이엔씨) 침산 포스코 더샵 프리미엘 - 32개의 이미지가 추가됨\n",
      "현장명: (세방테크) 힐스테이트 봉담프라이드시티 - 642개의 이미지가 추가됨\n",
      "현장명: (중원엔지니어링) LG 여의도 트윈타워 리모델링 - 91개의 이미지가 추가됨\n",
      "현장명: (환경이엔지) 힐스테이트 장안 센트럴 - 46개의 이미지가 추가됨\n"
     ]
    }
   ],
   "source": [
    "# 각 현장별 폴더에 있는 이미지를 모두 가져옴\n",
    "site_name_list = os.listdir(image_set_folder_path)\n",
    "\n",
    "for site_name in site_name_list:\n",
    "    resized_image_folder_path = f\"{image_set_folder_path}/{site_name}/resized/\"\n",
    "    # 해당 폴더 내에 있는 모든 이미지 파일 이름을 불러옴\n",
    "    image_name_list = os.listdir(resized_image_folder_path)\n",
    "    \n",
    "    for index, image_name in enumerate(image_name_list):\n",
    "        # 각 이미지를 base64로 변환해 저장함\n",
    "        base64_image = convert_to_base64(resized_image_folder_path + image_name)\n",
    "        base64_image_set.append(base64_image)\n",
    "\n",
    "    print(f\"현장명: {site_name} - {index + 1}개의 이미지가 추가됨\")"
   ]
  },
  {
   "cell_type": "code",
   "execution_count": 9,
   "metadata": {},
   "outputs": [],
   "source": [
    "# 시스템 프롬프트\n",
    "system_prompt_text = \"You are the chief construction manager at a construction company, responsible for organizing work photos sent from the site. When you receive a work photo combined with a table of work information, extract the text in according to the given structure.\"\n",
    "system_prompt = {\n",
    "    \"role\": \"system\",\n",
    "    \"content\": [{\n",
    "        \"type\": \"text\",\n",
    "        \"text\": system_prompt_text\n",
    "    }]\n",
    "}"
   ]
  },
  {
   "cell_type": "code",
   "execution_count": 10,
   "metadata": {},
   "outputs": [],
   "source": [
    "# 이미지 입력 형식\n",
    "user_prompt = {\n",
    "    \"role\": \"user\",\n",
    "    \"content\": [{\n",
    "        \"type\": \"text\",\n",
    "        \"text\": \"\"\n",
    "    },\n",
    "    {\n",
    "        \"type\": \"image_url\",\n",
    "        \"image_url\": {\n",
    "            \"url\": \"data:image/jpeg;base64,{0}\"\n",
    "        }\n",
    "    }]\n",
    "}"
   ]
  },
  {
   "cell_type": "code",
   "execution_count": 11,
   "metadata": {},
   "outputs": [],
   "source": [
    "json_schema = {\n",
    "  \"name\": \"extract_construction_info\",\n",
    "  \"strict\": True,\n",
    "  \"schema\": {\n",
    "    \"type\": \"object\",\n",
    "    \"properties\": {\n",
    "      \"content\": {\n",
    "        \"type\": \"string\",\n",
    "        \"description\": \"Text under the '내용' section in the table\"\n",
    "      }\n",
    "    },\n",
    "    \"additionalProperties\": False,\n",
    "    \"required\": [\n",
    "      \"content\"\n",
    "    ]\n",
    "  }\n",
    "}"
   ]
  },
  {
   "cell_type": "code",
   "execution_count": 12,
   "metadata": {},
   "outputs": [],
   "source": [
    "task_schema = {\n",
    "    \"custom_id\": \"task-{0}\",\n",
    "    \"method\": \"POST\",\n",
    "    \"url\": \"/v1/chat/completions\",\n",
    "    \"body\": {\n",
    "        \"model\": \"gpt-4o-2024-08-06\",\n",
    "        \"temperature\": 0.1,\n",
    "        \"response_format\": {\n",
    "            \"type\": \"json_schema\",\n",
    "            \"json_schema\": json_schema\n",
    "        },\n",
    "        \"messages\": [\n",
    "            system_prompt,\n",
    "            user_prompt\n",
    "        ]\n",
    "    }\n",
    "}"
   ]
  },
  {
   "cell_type": "code",
   "execution_count": 15,
   "metadata": {},
   "outputs": [],
   "source": [
    "# 배치 파일을 저장할 위치 설정\n",
    "# dataset/batches 폴더에 저장하였음\n",
    "root.call('wm', 'attributes', '.', '-topmost', True)\n",
    "batch_file_folder = askdirectory()\n",
    "%gui tk"
   ]
  },
  {
   "cell_type": "code",
   "execution_count": 20,
   "metadata": {},
   "outputs": [],
   "source": [
    "# 배치 파일 생성\n",
    "batch_file_index = 0\n",
    "\n",
    "for index, base64_image in enumerate(base64_image_set):\n",
    "    batch_file_path = batch_file_folder + f\"/batch_tasks{batch_file_index}.jsonl\"\n",
    "    \n",
    "    with open(batch_file_path, 'a') as file:\n",
    "        task = copy.deepcopy(task_schema)\n",
    "        # 커스텀 ID 수정\n",
    "        task[\"custom_id\"] = task[\"custom_id\"].format(index)\n",
    "        # 유저 프롬프트에 base64로 변환된 이미지 적용\n",
    "        image_field = task[\"body\"][\"messages\"][1][\"content\"][1][\"image_url\"]\n",
    "        image_field[\"url\"] = image_field[\"url\"].format(base64_image)\n",
    "        # 파일에 배치 태스크 작성\n",
    "        file.write(json.dumps(task) + '\\n')\n",
    "\n",
    "    # 1개의 배치 파일에 100개의 태스크씩 작성\n",
    "    if index != 0 and index % 100 == 0:\n",
    "        batch_file_index += 1\n",
    "    "
   ]
  },
  {
   "cell_type": "markdown",
   "metadata": {},
   "source": [
    "### 2. 배치 작업 실행\n",
    "#### 작업은 OpenAI Platform에서 진행하였음\n",
    "#### 작업 결과는 database/batch outputs 폴더에 저장하였음"
   ]
  },
  {
   "cell_type": "code",
   "execution_count": 8,
   "metadata": {},
   "outputs": [],
   "source": [
    "# 배치 작업 결과가 저장된 폴더를 선택함\n",
    "root = Tk()\n",
    "root.withdraw()\n",
    "root.call('wm', 'attributes', '.', '-topmost', True)\n",
    "batch_output_folder = askdirectory()\n",
    "%gui tk"
   ]
  },
  {
   "cell_type": "code",
   "execution_count": 10,
   "metadata": {},
   "outputs": [],
   "source": [
    "# 배치 결과의 각 라인에서 추출한 텍스트에 접근해 반환하는 함수\n",
    "def get_content(batch_output_line):\n",
    "    content = (batch_output_line.get('response')\n",
    "                                .get('body')\n",
    "                                .get('choices')[0]\n",
    "                                .get('message')\n",
    "                                .get('content'))\n",
    "    \n",
    "    return json.loads(content).get('content')"
   ]
  },
  {
   "cell_type": "code",
   "execution_count": 19,
   "metadata": {},
   "outputs": [
    {
     "data": {
      "text/plain": [
       "'1번, 벽체, 덕트 100*2단면'"
      ]
     },
     "execution_count": 19,
     "metadata": {},
     "output_type": "execute_result"
    }
   ],
   "source": [
    "# 선택한 폴더에서 모든 파일을 불러옴\n",
    "outputs = []\n",
    "\n",
    "for index in range(16):\n",
    "    # 배치 결과 파일의 경로\n",
    "    batch_output_file_path = f\"{batch_output_folder}/{index}_output.jsonl\"\n",
    "    \n",
    "    with open(batch_output_file_path) as batch_output_file:\n",
    "        outputs += [\n",
    "            get_content(json.loads(line))\n",
    "            for line in batch_output_file\n",
    "        ]\n",
    "\n",
    "outputs[0]"
   ]
  },
  {
   "cell_type": "code",
   "execution_count": 23,
   "metadata": {},
   "outputs": [
    {
     "data": {
      "text/plain": [
       "'7-STS-FD 단판 1200*700.1200*700 양면'"
      ]
     },
     "execution_count": 23,
     "metadata": {},
     "output_type": "execute_result"
    }
   ],
   "source": [
    "outputs[327]"
   ]
  },
  {
   "cell_type": "markdown",
   "metadata": {},
   "source": [
    "### !문제 발생!\n",
    "#### 1. 자원 절약을 위해 해상도를 낮춰 추출을 시도하였으나 정확도가 상당히 떨어짐\n",
    "####     -> 해상도를 변경하지 않고 시도해볼 것\n",
    "#### 2. Playground에서의 응답과 Batch API에서의 응답의 차이가 존재함\n",
    "####     -> Temperature 등의 매개변수를 Playground와 동일하게 설정할 것"
   ]
  }
 ],
 "metadata": {
  "kernelspec": {
   "display_name": "Python 3 (ipykernel)",
   "language": "python",
   "name": "python3"
  },
  "language_info": {
   "codemirror_mode": {
    "name": "ipython",
    "version": 3
   },
   "file_extension": ".py",
   "mimetype": "text/x-python",
   "name": "python",
   "nbconvert_exporter": "python",
   "pygments_lexer": "ipython3",
   "version": "3.10.11"
  }
 },
 "nbformat": 4,
 "nbformat_minor": 4
}
